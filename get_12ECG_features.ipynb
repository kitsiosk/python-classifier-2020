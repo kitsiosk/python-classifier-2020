{
 "cells": [
  {
   "cell_type": "code",
   "execution_count": 1,
   "metadata": {},
   "outputs": [],
   "source": [
    "import os\n",
    "import numpy as np\n",
    "from scipy.io import loadmat\n",
    "from scipy import stats\n",
    "from scipy import signal\n",
    "import scipy.integrate as integrate\n",
    "import numpy.polynomial.hermite as herm\n",
    "from scipy.signal import butter, lfilter, medfilt, resample\n",
    "import matplotlib.pyplot as plt\n",
    "import pywt\n",
    "import scipy.stats\n",
    "\n",
    "def detect_peaks(ecg_measurements,signal_frequency,gain):\n",
    "\n",
    "    \"\"\"\n",
    "    Method responsible for extracting peaks from loaded ECG measurements data through measurements processing.\n",
    "    This implementation of a QRS Complex Detector is by no means a certified medical tool and should not be used in health monitoring. \n",
    "    It was created and used for experimental purposes in psychophysiology and psychology.\n",
    "    You can find more information in module documentation:\n",
    "    https://github.com/c-labpl/qrs_detector\n",
    "    If you use these modules in a research project, please consider citing it:\n",
    "    https://zenodo.org/record/583770\n",
    "    If you use these modules in any other project, please refer to MIT open-source license.\n",
    "    If you have any question on the implementation, please refer to:\n",
    "    Michal Sznajder (Jagiellonian University) - technical contact (msznajder@gmail.com)\n",
    "    Marta lukowska (Jagiellonian University)\n",
    "    Janko Slavic peak detection algorithm and implementation.\n",
    "    https://github.com/c-labpl/qrs_detector\n",
    "    https://github.com/jankoslavic/py-tools/tree/master/findpeaks\n",
    "    \n",
    "    MIT License\n",
    "    Copyright (c) 2017 Michal Sznajder, Marta Lukowska\n",
    "\n",
    "    Permission is hereby granted, free of charge, to any person obtaining a copy\n",
    "    of this software and associated documentation files (the \"Software\"), to deal\n",
    "    in the Software without restriction, including without limitation the rights\n",
    "    to use, copy, modify, merge, publish, distribute, sublicense, and/or sell\n",
    "    copies of the Software, and to permit persons to whom the Software is\n",
    "    furnished to do so, subject to the following conditions:\n",
    "    The above copyright notice and this permission notice shall be included in all\n",
    "    copies or substantial portions of the Software.\n",
    "    THE SOFTWARE IS PROVIDED \"AS IS\", WITHOUT WARRANTY OF ANY KIND, EXPRESS OR\n",
    "    IMPLIED, INCLUDING BUT NOT LIMITED TO THE WARRANTIES OF MERCHANTABILITY,\n",
    "    FITNESS FOR A PARTICULAR PURPOSE AND NONINFRINGEMENT. IN NO EVENT SHALL THE\n",
    "    AUTHORS OR COPYRIGHT HOLDERS BE LIABLE FOR ANY CLAIM, DAMAGES OR OTHER\n",
    "    LIABILITY, WHETHER IN AN ACTION OF CONTRACT, TORT OR OTHERWISE, ARISING FROM,\n",
    "    OUT OF OR IN CONNECTION WITH THE SOFTWARE OR THE USE OR OTHER DEALINGS IN THE\n",
    "    SOFTWARE.\n",
    "    \"\"\"\n",
    "\n",
    "\n",
    "    filter_lowcut = 0.001\n",
    "    filter_highcut = 15.0\n",
    "    filter_order = 1\n",
    "    integration_window = 30  # Change proportionally when adjusting frequency (in samples).\n",
    "    findpeaks_limit = 0.35\n",
    "    findpeaks_spacing = 100  # Change proportionally when adjusting frequency (in samples).\n",
    "    refractory_period = 240  # Change proportionally when adjusting frequency (in samples).\n",
    "    qrs_peak_filtering_factor = 0.125\n",
    "    noise_peak_filtering_factor = 0.125\n",
    "    qrs_noise_diff_weight = 0.25\n",
    "\n",
    "\n",
    "    # Detection results.\n",
    "    qrs_peaks_indices = np.array([], dtype=int)\n",
    "    noise_peaks_indices = np.array([], dtype=int)\n",
    "\n",
    "\n",
    "    # Measurements filtering - 0-15 Hz band pass filter.\n",
    "    filtered_ecg_measurements = bandpass_filter(ecg_measurements, lowcut=filter_lowcut, highcut=filter_highcut, signal_freq=signal_frequency, filter_order=filter_order)\n",
    "\n",
    "    filtered_ecg_measurements[:5] = filtered_ecg_measurements[5]\n",
    "\n",
    "    # Derivative - provides QRS slope information.\n",
    "    differentiated_ecg_measurements = np.ediff1d(filtered_ecg_measurements)\n",
    "\n",
    "    # Squaring - intensifies values received in derivative.\n",
    "    squared_ecg_measurements = differentiated_ecg_measurements ** 2\n",
    "\n",
    "    # Moving-window integration.\n",
    "    integrated_ecg_measurements = np.convolve(squared_ecg_measurements, np.ones(integration_window)/integration_window)\n",
    "\n",
    "    # Fiducial mark - peak detection on integrated measurements.\n",
    "    detected_peaks_indices = findpeaks(data=integrated_ecg_measurements,\n",
    "                                                    limit=findpeaks_limit,\n",
    "                                                    spacing=findpeaks_spacing)\n",
    "\n",
    "    detected_peaks_values = integrated_ecg_measurements[detected_peaks_indices]\n",
    "\n",
    "    return detected_peaks_values,detected_peaks_indices\n",
    "def bandpass_filter(data, lowcut, highcut, signal_freq, filter_order):\n",
    "    \"\"\"\n",
    "    Method responsible for creating and applying Butterworth filter.\n",
    "    :param deque data: raw data\n",
    "    :param float lowcut: filter lowcut frequency value\n",
    "    :param float highcut: filter highcut frequency value\n",
    "    :param int signal_freq: signal frequency in samples per second (Hz)\n",
    "    :param int filter_order: filter order\n",
    "    :return array: filtered data\n",
    "    \"\"\"\n",
    "    nyquist_freq = 0.5 * signal_freq\n",
    "    low = lowcut / nyquist_freq\n",
    "    high = highcut / nyquist_freq\n",
    "    b, a = butter(filter_order, [low, high], btype=\"band\")\n",
    "    y = lfilter(b, a, data)\n",
    "    return y\n",
    "\n",
    "\n",
    "\n",
    "def findpeaks(data, spacing=1, limit=None):\n",
    "    \"\"\"\n",
    "    Janko Slavic peak detection algorithm and implementation.\n",
    "    https://github.com/jankoslavic/py-tools/tree/master/findpeaks\n",
    "    Finds peaks in `data` which are of `spacing` width and >=`limit`.\n",
    "    :param ndarray data: data\n",
    "    :param float spacing: minimum spacing to the next peak (should be 1 or more)\n",
    "    :param float limit: peaks should have value greater or equal\n",
    "    :return array: detected peaks indexes array\n",
    "    \"\"\"\n",
    "    len = data.size\n",
    "    x = np.zeros(len + 2 * spacing)\n",
    "    x[:spacing] = data[0] - 1.e-6\n",
    "    x[-spacing:] = data[-1] - 1.e-6\n",
    "    x[spacing:spacing + len] = data\n",
    "    peak_candidate = np.zeros(len)\n",
    "    peak_candidate[:] = True\n",
    "    for s in range(spacing):\n",
    "        start = spacing - s - 1\n",
    "        h_b = x[start: start + len]  # before\n",
    "        start = spacing\n",
    "        h_c = x[start: start + len]  # central\n",
    "        start = spacing + s + 1\n",
    "        h_a = x[start: start + len]  # after\n",
    "        peak_candidate = np.logical_and(peak_candidate, np.logical_and(h_c > h_b, h_c > h_a))\n",
    "\n",
    "    ind = np.argwhere(peak_candidate)\n",
    "    ind = ind.reshape(ind.size)\n",
    "    if limit is not None:\n",
    "        ind = ind[data[ind] > limit]\n",
    "    return ind\n",
    "\n",
    "def load_challenge_data(filename):\n",
    "\n",
    "    x = loadmat(filename)\n",
    "    data = np.asarray(x['val'], dtype=np.float64)\n",
    "\n",
    "    new_file = filename.replace('.mat', '.hea')\n",
    "    input_header_file = os.path.join(new_file)\n",
    "\n",
    "    with open(input_header_file, 'r') as f:\n",
    "        header_data = f.readlines()\n",
    "\n",
    "    return data, header_data\n"
   ]
  },
  {
   "cell_type": "code",
   "execution_count": 2,
   "metadata": {},
   "outputs": [],
   "source": [
    "nSamples = 6877;\n",
    "# Components of interest\n",
    "components = [3, 4, 5, 6, 7, 8];\n",
    "nComponents = len(components);\n",
    "nLeads = 12\n",
    "nLevels = 8\n",
    "nRRFeaturesPerLead = 4\n",
    "# For each component, extract 2nd, 3rd and fourth order cumulants at 0\n",
    "nHOSFeaturesPerLead = 3*nComponents;\n",
    "# Total number of features per lead\n",
    "nFeaturesPerLead = nRRFeaturesPerLead + nHOSFeaturesPerLead;\n",
    "# Total number of feautres for each example. Add 2 for age and sex\n",
    "nFeatures = nFeaturesPerLead * nLeads + 2;"
   ]
  },
  {
   "cell_type": "code",
   "execution_count": 3,
   "metadata": {},
   "outputs": [],
   "source": [
    "data, header_data = load_challenge_data('input/PhysioNetChallenge2020_Training_CPSC/test/A0001.mat')"
   ]
  },
  {
   "cell_type": "code",
   "execution_count": 4,
   "metadata": {},
   "outputs": [],
   "source": [
    "tmp_hea = header_data[0].split(' ')\n",
    "ptID = tmp_hea[0]\n",
    "num_leads = int(tmp_hea[1])\n",
    "sample_Fs= int(tmp_hea[2])\n",
    "gain_lead = np.zeros(num_leads)\n",
    "for ii in range(num_leads):\n",
    "    tmp_hea = header_data[ii+1].split(' ')\n",
    "    gain_lead[ii] = int(tmp_hea[2].split('/')[0])\n",
    "# for testing, we included the mean age of 57 if the age is a NaN\n",
    "# This value will change as more data is being released\n",
    "for iline in header_data:\n",
    "    if iline.startswith('#Age'):\n",
    "        tmp_age = iline.split(': ')[1].strip()\n",
    "        age = int(tmp_age if tmp_age != 'NaN' else 57)\n",
    "    elif iline.startswith('#Sex'):\n",
    "        tmp_sex = iline.split(': ')[1]\n",
    "        if tmp_sex.strip()=='Female':\n",
    "            sex =1\n",
    "        else:\n",
    "            sex=0\n",
    "    elif iline.startswith('#Dx'):\n",
    "        label = iline.split(': ')[1].split(',')[0]\n",
    "\n",
    "# RR features for each lead\n",
    "RRFeatures = np.zeros((nLeads, nRRFeaturesPerLead));\n",
    "# For each lead, we extract 3 HOS features from each subband\n",
    "HOSFeaturesAll = np.zeros((nLeads, nHOSFeaturesPerLead));\n",
    "# Put together HOS, RR + age + sex\n",
    "featuresAll = np.zeros(( nFeatures, 1));\n",
    "\n",
    "for iLead in range(nLeads):\n",
    "    x = data[iLead, :]\n",
    "\n",
    "    mra = pywt.wavedec(x, 'sym4', level=nLevels)\n",
    "    \n",
    "    # 2nd, 3rd and 4th order cumulants at 0 for each level\n",
    "    HOSFeatures = np.zeros((3*nComponents, ));\n",
    "    for iLevel in range(nComponents):\n",
    "        y = mra[components[iLevel]]\n",
    "\n",
    "        threshold = 50\n",
    "        ythard = pywt.threshold(y, threshold, 'hard')\n",
    "\n",
    "        stdV      = np.std(ythard)\n",
    "        skewnessV = scipy.stats.skew(ythard)\n",
    "        kurtosisV = scipy.stats.kurtosis(ythard)\n",
    "\n",
    "        HOSFeatures[3*iLevel] = stdV;\n",
    "        HOSFeatures[3*iLevel + 1] = skewnessV;\n",
    "        HOSFeatures[3*iLevel + 2] = kurtosisV;\n",
    "    HOSFeaturesAll[iLead, :] = HOSFeatures\n",
    "\n",
    "    peaks, R_index = detect_peaks(x, sample_Fs, gain_lead[0])\n",
    "    # RR intervals time series\n",
    "    rr = np.diff(R_index)\n",
    "    # First differences of time series\n",
    "    drr = np.diff(rr)\n",
    "    RRFeatures[iLead, 0] = np.mean(rr)\n",
    "    RRFeatures[iLead, 1] = np.std(rr)\n",
    "    RRFeatures[iLead, 2] = np.sqrt( np.sum( np.power(drr, 2) )/len(drr) )\n",
    "    RRFeatures[iLead, 3] = np.std(drr)\n",
    "    \n",
    "featuresAll[ 0:nLeads*nHOSFeaturesPerLead ] = HOSFeaturesAll.reshape(nLeads*nHOSFeaturesPerLead, 1)\n",
    "featuresAll[ nLeads*nHOSFeaturesPerLead + 1 : nLeads*nHOSFeaturesPerLead + nLeads*nRRFeaturesPerLead + 1 ] = RRFeatures.reshape(nLeads*nRRFeaturesPerLead, 1);\n",
    "featuresAll[-2] = sex;\n",
    "featuresAll[-1] = age;"
   ]
  },
  {
   "cell_type": "code",
   "execution_count": 53,
   "metadata": {},
   "outputs": [],
   "source": [
    "coeffs = pywt.wavedec(x, 'sym4', level=nLevels)"
   ]
  },
  {
   "cell_type": "code",
   "execution_count": 54,
   "metadata": {},
   "outputs": [
    {
     "data": {
      "text/plain": [
       "9"
      ]
     },
     "execution_count": 54,
     "metadata": {},
     "output_type": "execute_result"
    }
   ],
   "source": [
    "len(coeffs)"
   ]
  },
  {
   "cell_type": "code",
   "execution_count": 60,
   "metadata": {},
   "outputs": [],
   "source": [
    "coeffs[0] = np.zeros_like(coeffs[0])"
   ]
  },
  {
   "cell_type": "code",
   "execution_count": 61,
   "metadata": {},
   "outputs": [],
   "source": [
    "# coeffs[1] = np.zeros_like(coeffs[1])"
   ]
  },
  {
   "cell_type": "code",
   "execution_count": 62,
   "metadata": {},
   "outputs": [],
   "source": [
    "coeffs[-1] = np.zeros_like(coeffs[-1])"
   ]
  },
  {
   "cell_type": "code",
   "execution_count": 63,
   "metadata": {},
   "outputs": [],
   "source": [
    "xrec = pywt.waverec(coeffs, 'sym4')"
   ]
  },
  {
   "cell_type": "code",
   "execution_count": 64,
   "metadata": {},
   "outputs": [
    {
     "data": {
      "image/png": "[encoded data removed]",
      "text/plain": [
       "<Figure size 432x288 with 1 Axes>"
      ]
     },
     "metadata": {
      "needs_background": "light"
     },
     "output_type": "display_data"
    }
   ],
   "source": [
    "plt.plot(x)\n",
    "plt.plot(xrec)\n",
    "plt.show()"
   ]
  },
  {
   "cell_type": "code",
   "execution_count": null,
   "metadata": {},
   "outputs": [],
   "source": []
  }
 ],
 "metadata": {
  "kernelspec": {
   "display_name": "Python 3",
   "language": "python",
   "name": "python3"
  },
  "language_info": {
   "codemirror_mode": {
    "name": "ipython",
    "version": 3
   },
   "file_extension": ".py",
   "mimetype": "text/x-python",
   "name": "python",
   "nbconvert_exporter": "python",
   "pygments_lexer": "ipython3",
   "version": "3.5.3"
  }
 },
 "nbformat": 4,
 "nbformat_minor": 4
}
